{
 "cells": [
  {
   "cell_type": "markdown",
   "metadata": {
    "deletable": true,
    "editable": true
   },
   "source": [
    "# Skip-gram word2vec\n",
    "\n",
    "In this notebook, I'll lead you through using TensorFlow to implement the word2vec algorithm using the skip-gram architecture. By implementing this, you'll learn about embedding words for use in natural language processing. This will come in handy when dealing with things like translations.\n",
    "\n",
    "## Readings\n",
    "\n",
    "Here are the resources I used to build this notebook. I suggest reading these either beforehand or while you're working on this material.\n",
    "\n",
    "* A really good [conceptual overview](http://mccormickml.com/2016/04/19/word2vec-tutorial-the-skip-gram-model/) of word2vec from Chris McCormick \n",
    "* [First word2vec paper](https://arxiv.org/pdf/1301.3781.pdf) from Mikolov et al.\n",
    "* [NIPS paper](http://papers.nips.cc/paper/5021-distributed-representations-of-words-and-phrases-and-their-compositionality.pdf) with improvements for word2vec also from Mikolov et al.\n",
    "* An [implementation of word2vec](http://www.thushv.com/natural_language_processing/word2vec-part-1-nlp-with-deep-learning-with-tensorflow-skip-gram/) from Thushan Ganegedara\n",
    "* TensorFlow [word2vec tutorial](https://www.tensorflow.org/tutorials/word2vec)\n",
    "\n",
    "## Word embeddings\n",
    "\n",
    "When you're dealing with language and words, you end up with tens of thousands of classes to predict, one for each word. Trying to one-hot encode these words is massively inefficient, you'll have one element set to 1 and the other 50,000 set to 0. The word2vec algorithm finds much more efficient representations by finding vectors that represent the words. These vectors also contain semantic information about the words. Words that show up in similar contexts, such as \"black\", \"white\", and \"red\" will have vectors near each other. There are two architectures for implementing word2vec, CBOW (Continuous Bag-Of-Words) and Skip-gram.\n",
    "\n",
    "<img src=\"assets/word2vec_architectures.png\" width=\"500\">\n",
    "\n",
    "In this implementation, we'll be using the skip-gram architecture because it performs better than CBOW. Here, we pass in a word and try to predict the words surrounding it in the text. In this way, we can train the network to learn representations for words that show up in similar contexts.\n",
    "\n",
    "First up, importing packages."
   ]
  },
  {
   "cell_type": "code",
   "execution_count": 1,
   "metadata": {
    "collapsed": false,
    "deletable": true,
    "editable": true
   },
   "outputs": [],
   "source": [
    "import time\n",
    "\n",
    "import numpy as np\n",
    "import tensorflow as tf\n",
    "\n",
    "import utils"
   ]
  },
  {
   "cell_type": "markdown",
   "metadata": {
    "deletable": true,
    "editable": true
   },
   "source": [
    "Load the [text8 dataset](http://mattmahoney.net/dc/textdata.html), a file of cleaned up Wikipedia articles from Matt Mahoney. The next cell will download the data set to the `data` folder. Then you can extract it and delete the archive file to save storage space."
   ]
  },
  {
   "cell_type": "code",
   "execution_count": 2,
   "metadata": {
    "collapsed": false,
    "deletable": true,
    "editable": true
   },
   "outputs": [],
   "source": [
    "from urllib.request import urlretrieve\n",
    "from os.path import isfile, isdir\n",
    "from tqdm import tqdm\n",
    "import zipfile\n",
    "\n",
    "dataset_folder_path = 'data'\n",
    "dataset_filename = 'text8.zip'\n",
    "dataset_name = 'Text8 Dataset'\n",
    "\n",
    "class DLProgress(tqdm):\n",
    "    last_block = 0\n",
    "\n",
    "    def hook(self, block_num=1, block_size=1, total_size=None):\n",
    "        self.total = total_size\n",
    "        self.update((block_num - self.last_block) * block_size)\n",
    "        self.last_block = block_num\n",
    "\n",
    "if not isfile(dataset_filename):\n",
    "    with DLProgress(unit='B', unit_scale=True, miniters=1, desc=dataset_name) as pbar:\n",
    "        urlretrieve(\n",
    "            'http://mattmahoney.net/dc/text8.zip',\n",
    "            dataset_filename,\n",
    "            pbar.hook)\n",
    "\n",
    "if not isdir(dataset_folder_path):\n",
    "    with zipfile.ZipFile(dataset_filename) as zip_ref:\n",
    "        zip_ref.extractall(dataset_folder_path)\n",
    "        \n",
    "with open('data/text8') as f:\n",
    "    text = f.read()"
   ]
  },
  {
   "cell_type": "markdown",
   "metadata": {
    "deletable": true,
    "editable": true
   },
   "source": [
    "## Preprocessing\n",
    "\n",
    "Here I'm fixing up the text to make training easier. This comes from the `utils` module I wrote. The `preprocess` function coverts any punctuation into tokens, so a period is changed to ` <PERIOD> `. In this data set, there aren't any periods, but it will help in other NLP problems. I'm also removing all words that show up five or fewer times in the dataset. This will greatly reduce issues due to noise in the data and improve the quality of the vector representations. If you want to write your own functions for this stuff, go for it."
   ]
  },
  {
   "cell_type": "code",
   "execution_count": 3,
   "metadata": {
    "collapsed": false,
    "deletable": true,
    "editable": true
   },
   "outputs": [
    {
     "name": "stdout",
     "output_type": "stream",
     "text": [
      "['anarchism', 'originated', 'as', 'a', 'term', 'of', 'abuse', 'first', 'used', 'against', 'early', 'working', 'class', 'radicals', 'including', 'the', 'diggers', 'of', 'the', 'english', 'revolution', 'and', 'the', 'sans', 'culottes', 'of', 'the', 'french', 'revolution', 'whilst']\n"
     ]
    }
   ],
   "source": [
    "words = utils.preprocess(text)\n",
    "print(words[:30])"
   ]
  },
  {
   "cell_type": "code",
   "execution_count": 4,
   "metadata": {
    "collapsed": false,
    "deletable": true,
    "editable": true
   },
   "outputs": [
    {
     "name": "stdout",
     "output_type": "stream",
     "text": [
      "Total words: 16680599\n",
      "Unique words: 63641\n"
     ]
    }
   ],
   "source": [
    "print(\"Total words: {}\".format(len(words)))\n",
    "print(\"Unique words: {}\".format(len(set(words))))"
   ]
  },
  {
   "cell_type": "markdown",
   "metadata": {
    "deletable": true,
    "editable": true
   },
   "source": [
    "And here I'm creating dictionaries to covert words to integers and backwards, integers to words. The integers are assigned in descending frequency order, so the most frequent word (\"the\") is given the integer 0 and the next most frequent is 1 and so on. The words are converted to integers and stored in the list `int_words`."
   ]
  },
  {
   "cell_type": "code",
   "execution_count": 5,
   "metadata": {
    "collapsed": false,
    "deletable": true,
    "editable": true
   },
   "outputs": [],
   "source": [
    "vocab_to_int, int_to_vocab = utils.create_lookup_tables(words)\n",
    "int_words = [vocab_to_int[word] for word in words]"
   ]
  },
  {
   "cell_type": "code",
   "execution_count": 6,
   "metadata": {
    "collapsed": false,
    "deletable": true,
    "editable": true
   },
   "outputs": [
    {
     "name": "stdout",
     "output_type": "stream",
     "text": [
      "['anarchism', 'originated', 'as', 'a', 'term', 'of', 'abuse', 'first', 'used', 'against', 'early', 'working', 'class', 'radicals', 'including', 'the', 'diggers', 'of', 'the', 'english', 'revolution', 'and', 'the', 'sans', 'culottes', 'of', 'the', 'french', 'revolution', 'whilst']\n",
      "[5242, 3082, 11, 5, 194, 1, 3135, 45, 58, 155, 127, 741, 476, 10605, 133, 0, 27836, 1, 0, 102, 854, 2, 0, 15148, 59677, 1, 0, 150, 854, 3582]\n"
     ]
    }
   ],
   "source": [
    "int_words1 = [vocab_to_int[word] for word in words[:30]]\n",
    "print(words[:30])\n",
    "print(int_words1)"
   ]
  },
  {
   "cell_type": "markdown",
   "metadata": {
    "deletable": true,
    "editable": true
   },
   "source": [
    "## Subsampling\n",
    "\n",
    "Words that show up often such as \"the\", \"of\", and \"for\" don't provide much context to the nearby words. If we discard some of them, we can remove some of the noise from our data and in return get faster training and better representations. This process is called subsampling by Mikolov. For each word $w_i$ in the training set, we'll discard it with probability given by \n",
    "\n",
    "$$ P(w_i) = 1 - \\sqrt{\\frac{t}{f(w_i)}} $$\n",
    "\n",
    "where $t$ is a threshold parameter and $f(w_i)$ is the frequency of word $w_i$ in the total dataset.\n",
    "\n",
    "I'm going to leave this up to you as an exercise. This is more of a programming challenge, than about deep learning specifically. But, being able to prepare your data for your network is an important skill to have. Check out my solution to see how I did it.\n",
    "\n",
    "> **Exercise:** Implement subsampling for the words in `int_words`. That is, go through `int_words` and discard each word given the probablility $P(w_i)$ shown above. Note that $P(w_i)$ is the probability that a word is discarded. Assign the subsampled data to `train_words`."
   ]
  },
  {
   "cell_type": "code",
   "execution_count": 7,
   "metadata": {
    "collapsed": false,
    "deletable": true,
    "editable": true
   },
   "outputs": [],
   "source": [
    "## Your code here\n",
    "#train_words = # The final subsampled word list\n",
    "from collections import Counter\n",
    "import random\n",
    "\n",
    "threshold = 1e-5\n",
    "word_counts = Counter(int_words)\n",
    "total_count = len(int_words)\n",
    "freqs = {word: count/total_count for word, count in word_counts.items()}\n",
    "p_drop = {word: 1 - np.sqrt(threshold/freqs[word]) for word in word_counts}\n",
    "train_words = [word for word in int_words if p_drop[word] < random.random()]"
   ]
  },
  {
   "cell_type": "code",
   "execution_count": 8,
   "metadata": {
    "collapsed": false,
    "deletable": true,
    "editable": true
   },
   "outputs": [
    {
     "name": "stdout",
     "output_type": "stream",
     "text": [
      "0.129588905177491\n"
     ]
    }
   ],
   "source": [
    "#print(word_counts)\n",
    "print(random.random())"
   ]
  },
  {
   "cell_type": "markdown",
   "metadata": {
    "deletable": true,
    "editable": true
   },
   "source": [
    "## Making batches"
   ]
  },
  {
   "cell_type": "markdown",
   "metadata": {
    "deletable": true,
    "editable": true
   },
   "source": [
    "Now that our data is in good shape, we need to get it into the proper form to pass it into our network. With the skip-gram architecture, for each word in the text, we want to grab all the words in a window around that word, with size $C$. \n",
    "\n",
    "From [Mikolov et al.](https://arxiv.org/pdf/1301.3781.pdf): \n",
    "\n",
    "\"Since the more distant words are usually less related to the current word than those close to it, we give less weight to the distant words by sampling less from those words in our training examples... If we choose $C = 5$, for each training word we will select randomly a number $R$ in range $< 1; C >$, and then use $R$ words from history and $R$ words from the future of the current word as correct labels.\"\n",
    "\n",
    "> **Exercise:** Implement a function `get_target` that receives a list of words, an index, and a window size, then returns a list of words in the window around the index. Make sure to use the algorithm described above, where you choose a random number of words from the window."
   ]
  },
  {
   "cell_type": "code",
   "execution_count": 9,
   "metadata": {
    "collapsed": true,
    "deletable": true,
    "editable": true
   },
   "outputs": [],
   "source": [
    "def get_target(words, idx, window_size=5):\n",
    "    ''' Get a list of words in a window around an index. '''\n",
    "    \n",
    "    # Your code here\n",
    "    k = int(random.random() * window_size)\n",
    "    i1 = idx - k\n",
    "    i2 = idx + k\n",
    "    if (i1 < 0):\n",
    "        i1 = 0\n",
    "    if (i2 > len(words)):\n",
    "        i2 = len(words)\n",
    "    return words[i1:i2]"
   ]
  },
  {
   "cell_type": "code",
   "execution_count": 10,
   "metadata": {
    "collapsed": true,
    "deletable": true,
    "editable": true
   },
   "outputs": [],
   "source": [
    "def get_target(words, idx, window_size=5):    \n",
    "    R = np.random.randint(1, window_size+1)\n",
    "    start = idx - R if (idx - R) > 0 else 0\n",
    "    stop = idx + R\n",
    "    target_words = set(words[start:idx] + words[idx+1:stop+1])\n",
    "    return list(target_words)"
   ]
  },
  {
   "cell_type": "markdown",
   "metadata": {
    "deletable": true,
    "editable": true
   },
   "source": [
    "Here's a function that returns batches for our network. The idea is that it grabs `batch_size` words from a words list. Then for each of those words, it gets the target words in the window. I haven't found a way to pass in a random number of target words and get it to work with the architecture, so I make one row per input-target pair. This is a generator function by the way, helps save memory."
   ]
  },
  {
   "cell_type": "code",
   "execution_count": 11,
   "metadata": {
    "collapsed": false,
    "deletable": true,
    "editable": true
   },
   "outputs": [],
   "source": [
    "def get_batches(words, batch_size, window_size=5):\n",
    "    ''' Create a generator of word batches as a tuple (inputs, targets) '''\n",
    "    \n",
    "    n_batches = len(words)//batch_size\n",
    "    \n",
    "    # only full batches\n",
    "    words = words[:n_batches*batch_size]\n",
    "    \n",
    "    for idx in range(0, len(words), batch_size):\n",
    "        x, y = [], []\n",
    "        batch = words[idx:idx+batch_size]\n",
    "        for ii in range(len(batch)):\n",
    "            batch_x = batch[ii]\n",
    "            batch_y = get_target(batch, ii, window_size)\n",
    "            y.extend(batch_y)\n",
    "            x.extend([batch_x]*len(batch_y))\n",
    "        yield x, y\n",
    "    "
   ]
  },
  {
   "cell_type": "markdown",
   "metadata": {
    "collapsed": false,
    "deletable": true,
    "editable": true
   },
   "source": [
    "## Building the graph\n",
    "\n",
    "From Chris McCormick's blog, we can see the general structure of our network.\n",
    "![embedding_network](./assets/skip_gram_net_arch.png)\n",
    "\n",
    "The input words are passed in as one-hot encoded vectors. This will go into a hidden layer of linear units, then into a softmax layer. We'll use the softmax layer to make a prediction like normal.\n",
    "\n",
    "The idea here is to train the hidden layer weight matrix to find efficient representations for our words. This weight matrix is usually called the embedding matrix or embedding look-up table. We can discard the softmax layer becuase we don't really care about making predictions with this network. We just want the embedding matrix so we can use it in other networks we build from the dataset.\n",
    "\n",
    "I'm going to have you build the graph in stages now. First off, creating the `inputs` and `labels` placeholders like normal.\n",
    "\n",
    "> **Exercise:** Assign `inputs` and `labels` using `tf.placeholder`. We're going to be passing in integers, so set the data types to `tf.int32`. The batches we're passing in will have varying sizes, so set the batch sizes to [`None`]. To make things work later, you'll need to set the second dimension of `labels` to `None` or `1`."
   ]
  },
  {
   "cell_type": "code",
   "execution_count": 12,
   "metadata": {
    "collapsed": false,
    "deletable": true,
    "editable": true
   },
   "outputs": [],
   "source": [
    "train_graph = tf.Graph()\n",
    "with train_graph.as_default():\n",
    "    inputs = tf.placeholder(tf.int32, [None], name='inputs')\n",
    "    labels = tf.placeholder(tf.int32, [None, None], name='labels')"
   ]
  },
  {
   "cell_type": "markdown",
   "metadata": {
    "deletable": true,
    "editable": true
   },
   "source": [
    "## Embedding\n",
    "\n"
   ]
  },
  {
   "cell_type": "markdown",
   "metadata": {
    "collapsed": true,
    "deletable": true,
    "editable": true
   },
   "source": [
    "The embedding matrix has a size of the number of words by the number of neurons in the hidden layer. So, if you have 10,000 words and 300 hidden units, the matrix will have size $10,000 \\times 300$. Remember that we're using one-hot encoded vectors for our inputs. When you do the matrix multiplication of the one-hot vector with the embedding matrix, you end up selecting only one row out of the entire matrix:\n",
    "\n",
    "![one-hot matrix multiplication](assets/matrix_mult_w_one_hot.png)\n",
    "\n",
    "You don't actually need to do the matrix multiplication, you just need to select the row in the embedding matrix that corresponds to the input word. Then, the embedding matrix becomes a lookup table, you're looking up a vector the size of the hidden layer that represents the input word.\n",
    "\n",
    "<img src=\"assets/word2vec_weight_matrix_lookup_table.png\" width=500>\n",
    "\n",
    "\n",
    "> **Exercise:** Tensorflow provides a convenient function [`tf.nn.embedding_lookup`](https://www.tensorflow.org/api_docs/python/tf/nn/embedding_lookup) that does this lookup for us. You pass in the embedding matrix and a tensor of integers, then it returns rows in the matrix corresponding to those integers. Below, set the number of embedding features you'll use (200 is a good start), create the embedding matrix variable, and use [`tf.nn.embedding_lookup`](https://www.tensorflow.org/api_docs/python/tf/nn/embedding_lookup) to get the embedding tensors. For the embedding matrix, I suggest you initialize it with a uniform random numbers between -1 and 1 using [tf.random_uniform](https://www.tensorflow.org/api_docs/python/tf/random_uniform). This [TensorFlow tutorial](https://www.tensorflow.org/tutorials/word2vec) will help if you get stuck."
   ]
  },
  {
   "cell_type": "code",
   "execution_count": 13,
   "metadata": {
    "collapsed": false,
    "deletable": true,
    "editable": true
   },
   "outputs": [],
   "source": [
    "n_vocab = len(int_to_vocab)\n",
    "n_embedding = 200 # Number of embedding features \n",
    "with train_graph.as_default():\n",
    "    embedding = tf.Variable(tf.random_uniform((n_vocab, n_embedding), minval=-1, maxval=1, dtype=tf.float32)) # create embedding weight matrix here\n",
    "    embed = tf.nn.embedding_lookup(embedding, inputs) # use tf.nn.embedding_lookup to get the hidden layer output"
   ]
  },
  {
   "cell_type": "markdown",
   "metadata": {
    "deletable": true,
    "editable": true
   },
   "source": [
    "## Negative sampling\n",
    "\n"
   ]
  },
  {
   "cell_type": "markdown",
   "metadata": {
    "deletable": true,
    "editable": true
   },
   "source": [
    "For every example we give the network, we train it using the output from the softmax layer. That means for each input, we're making very small changes to millions of weights even though we only have one true example. This makes training the network very inefficient. We can approximate the loss from the softmax layer by only updating a small subset of all the weights at once. We'll update the weights for the correct label, but only a small number of incorrect labels. This is called [\"negative sampling\"](http://papers.nips.cc/paper/5021-distributed-representations-of-words-and-phrases-and-their-compositionality.pdf). Tensorflow has a convenient function to do this, [`tf.nn.sampled_softmax_loss`](https://www.tensorflow.org/api_docs/python/tf/nn/sampled_softmax_loss).\n",
    "\n",
    "> **Exercise:** Below, create weights and biases for the softmax layer. Then, use [`tf.nn.sampled_softmax_loss`](https://www.tensorflow.org/api_docs/python/tf/nn/sampled_softmax_loss) to calculate the loss. Be sure to read the documentation to figure out how it works."
   ]
  },
  {
   "cell_type": "code",
   "execution_count": 14,
   "metadata": {
    "collapsed": false,
    "deletable": true,
    "editable": true
   },
   "outputs": [],
   "source": [
    "# Number of negative labels to sample\n",
    "n_sampled = 100\n",
    "with train_graph.as_default():\n",
    "    softmax_w = tf.Variable(tf.truncated_normal((n_vocab, n_embedding), stddev=0.1)) # create softmax weight matrix here\n",
    "    softmax_b = tf.Variable(tf.zeros(n_vocab)) # create softmax biases here\n",
    "    \n",
    "    # Calculate the loss using negative sampling\n",
    "    loss = tf.nn.sampled_softmax_loss(softmax_w, softmax_b, labels, embed, n_sampled, n_vocab) \n",
    "    \n",
    "    cost = tf.reduce_mean(loss)\n",
    "    optimizer = tf.train.AdamOptimizer().minimize(cost)"
   ]
  },
  {
   "cell_type": "markdown",
   "metadata": {
    "deletable": true,
    "editable": true
   },
   "source": [
    "## Validation\n",
    "\n",
    "This code is from Thushan Ganegedara's implementation. Here we're going to choose a few common words and few uncommon words. Then, we'll print out the closest words to them. It's a nice way to check that our embedding table is grouping together words with similar semantic meanings."
   ]
  },
  {
   "cell_type": "code",
   "execution_count": 15,
   "metadata": {
    "collapsed": true,
    "deletable": true,
    "editable": true
   },
   "outputs": [],
   "source": [
    "with train_graph.as_default():\n",
    "    ## From Thushan Ganegedara's implementation\n",
    "    valid_size = 16 # Random set of words to evaluate similarity on.\n",
    "    valid_window = 100\n",
    "    # pick 8 samples from (0,100) and (1000,1100) each ranges. lower id implies more frequent \n",
    "    valid_examples = np.array(random.sample(range(valid_window), valid_size//2))\n",
    "    valid_examples = np.append(valid_examples, \n",
    "                               random.sample(range(1000,1000+valid_window), valid_size//2))\n",
    "\n",
    "    valid_dataset = tf.constant(valid_examples, dtype=tf.int32)\n",
    "    \n",
    "    # We use the cosine distance:\n",
    "    norm = tf.sqrt(tf.reduce_sum(tf.square(embedding), 1, keep_dims=True))\n",
    "    normalized_embedding = embedding / norm\n",
    "    valid_embedding = tf.nn.embedding_lookup(normalized_embedding, valid_dataset)\n",
    "    similarity = tf.matmul(valid_embedding, tf.transpose(normalized_embedding))"
   ]
  },
  {
   "cell_type": "code",
   "execution_count": 16,
   "metadata": {
    "collapsed": false,
    "deletable": true,
    "editable": true
   },
   "outputs": [
    {
     "name": "stdout",
     "output_type": "stream",
     "text": [
      "mkdir: cannot create directory 'checkpoints': File exists\r\n"
     ]
    }
   ],
   "source": [
    "# If the checkpoints directory doesn't exist:\n",
    "!mkdir checkpoints"
   ]
  },
  {
   "cell_type": "markdown",
   "metadata": {
    "deletable": true,
    "editable": true
   },
   "source": [
    "## Training\n",
    "\n",
    "Below is the code to train the network. Every 100 batches it reports the training loss. Every 1000 batches, it'll print out the validation words."
   ]
  },
  {
   "cell_type": "code",
   "execution_count": null,
   "metadata": {
    "collapsed": false,
    "deletable": true,
    "editable": true
   },
   "outputs": [
    {
     "name": "stdout",
     "output_type": "stream",
     "text": [
      "Epoch 1/10 Iteration: 100 Avg. Training loss: 5.6642 0.2050 sec/batch\n",
      "Epoch 1/10 Iteration: 200 Avg. Training loss: 5.6284 0.1957 sec/batch\n",
      "Epoch 1/10 Iteration: 300 Avg. Training loss: 5.5134 0.1948 sec/batch\n",
      "Epoch 1/10 Iteration: 400 Avg. Training loss: 5.6022 0.1896 sec/batch\n",
      "Epoch 1/10 Iteration: 500 Avg. Training loss: 5.4906 0.1884 sec/batch\n",
      "Epoch 1/10 Iteration: 600 Avg. Training loss: 5.5325 0.1908 sec/batch\n",
      "Epoch 1/10 Iteration: 700 Avg. Training loss: 5.5315 0.1907 sec/batch\n",
      "Epoch 1/10 Iteration: 800 Avg. Training loss: 5.5078 0.1892 sec/batch\n",
      "Epoch 1/10 Iteration: 900 Avg. Training loss: 5.4748 0.1898 sec/batch\n",
      "Epoch 1/10 Iteration: 1000 Avg. Training loss: 5.4088 0.1901 sec/batch\n",
      "Nearest to many: nicomedia, torturing, durio, did, redshift, cordwainer, dennett, marrying,\n",
      "Nearest to or: lavinia, naca, gamefaqs, yauch, explorers, quart, magnificently, retellings,\n",
      "Nearest to are: tarzan, macrolide, maison, quarterback, reichenberger, lobos, hutchins, injected,\n",
      "Nearest to can: takahata, broadcaster, stratum, telekinetic, imperfective, imperio, bit, gallantry,\n",
      "Nearest to this: khadijah, waterford, derivations, arrestor, benzodiazepine, recklessness, calixtus, holley,\n",
      "Nearest to six: conclave, pashtun, upheld, centered, shiite, simus, affiliation, ifrit,\n",
      "Nearest to will: constructivism, consultancy, aramean, aruban, bil, flue, tib, capt,\n",
      "Nearest to that: kestrel, offs, elsinore, best, allows, arbiter, sum, rooted,\n",
      "Nearest to know: turning, tptp, individualists, inspection, tver, ways, rift, disney,\n",
      "Nearest to applications: ravage, levies, izabella, heavily, sensu, dimers, vertically, stupendous,\n",
      "Nearest to versions: marcia, dvorak, bhutto, koresh, soles, merged, pki, longed,\n",
      "Nearest to mean: hei, pillow, tourist, buscema, js, ornithologists, wyatt, kirghiz,\n",
      "Nearest to troops: amending, undoing, professionals, stretchy, amadou, panspermia, recreate, tartaric,\n",
      "Nearest to woman: underway, organizations, port, acs, pluricentric, handshake, restarts, constitutionalism,\n",
      "Nearest to experience: fusing, salvadoran, sykes, meteorological, enumeration, pantheism, interrupt, loewe,\n",
      "Nearest to notes: triumphant, sealey, seijuro, discursive, spared, rida, magni, gion,\n",
      "Epoch 1/10 Iteration: 1100 Avg. Training loss: 5.4740 0.1915 sec/batch\n",
      "Epoch 1/10 Iteration: 1200 Avg. Training loss: 5.3866 0.1880 sec/batch\n",
      "Epoch 1/10 Iteration: 1300 Avg. Training loss: 5.3415 0.1885 sec/batch\n",
      "Epoch 1/10 Iteration: 1400 Avg. Training loss: 5.2152 0.1895 sec/batch\n",
      "Epoch 1/10 Iteration: 1500 Avg. Training loss: 5.2148 0.1881 sec/batch\n",
      "Epoch 1/10 Iteration: 1600 Avg. Training loss: 5.1582 0.1888 sec/batch\n",
      "Epoch 1/10 Iteration: 1700 Avg. Training loss: 5.1315 0.1895 sec/batch\n",
      "Epoch 1/10 Iteration: 1800 Avg. Training loss: 5.0676 0.1892 sec/batch\n",
      "Epoch 1/10 Iteration: 1900 Avg. Training loss: 5.0199 0.1888 sec/batch\n",
      "Epoch 1/10 Iteration: 2000 Avg. Training loss: 4.9792 0.1906 sec/batch\n",
      "Nearest to many: did, worked, nicomedia, from, marrying, drains, able, dennett,\n",
      "Nearest to or: able, equations, lavinia, naca, center, should, comprised, borders,\n",
      "Nearest to are: tarzan, elephants, held, tried, injected, here, sunrise, often,\n",
      "Nearest to can: bit, broadcaster, physics, stratum, generate, language, takahata, portugal,\n",
      "Nearest to this: than, waterford, derivations, employees, khadijah, modified, manpower, followed,\n",
      "Nearest to six: conclave, pashtun, upheld, declaration, affiliation, shiite, middle, mistakenly,\n",
      "Nearest to will: bloody, way, guarantees, aramean, capt, tilted, constructivism, consultancy,\n",
      "Nearest to that: allows, best, offs, kestrel, sum, china, should, related,\n",
      "Nearest to know: turning, disney, ways, central, inspection, tptp, actual, sat,\n",
      "Nearest to applications: heavily, levies, ravage, adding, peace, stupendous, processes, riflemen,\n",
      "Nearest to versions: requirements, merged, vol, marcia, fight, ruined, kilogram, physical,\n",
      "Nearest to mean: tourist, buscema, most, hei, j, positive, recognition, objections,\n",
      "Nearest to troops: undoing, professionals, amending, watson, inch, stretchy, recreate, panspermia,\n",
      "Nearest to woman: organizations, underway, port, swam, constitutionalism, acs, portions, complexes,\n",
      "Nearest to experience: salvadoran, fusing, meteorological, missionaries, sykes, chuck, considerably, pantheism,\n",
      "Nearest to notes: triumphant, gion, sealey, spared, seijuro, observed, fretilin, infrastructure,\n",
      "Epoch 1/10 Iteration: 2100 Avg. Training loss: 4.9431 0.1920 sec/batch\n",
      "Epoch 1/10 Iteration: 2200 Avg. Training loss: 4.9288 0.1901 sec/batch\n",
      "Epoch 1/10 Iteration: 2300 Avg. Training loss: 4.8868 0.1885 sec/batch\n",
      "Epoch 1/10 Iteration: 2400 Avg. Training loss: 4.8626 0.1890 sec/batch\n",
      "Epoch 1/10 Iteration: 2500 Avg. Training loss: 4.8248 0.1874 sec/batch\n",
      "Epoch 1/10 Iteration: 2600 Avg. Training loss: 4.8017 0.1889 sec/batch\n",
      "Epoch 1/10 Iteration: 2700 Avg. Training loss: 4.7943 0.1878 sec/batch\n",
      "Epoch 1/10 Iteration: 2800 Avg. Training loss: 4.8024 0.1867 sec/batch\n",
      "Epoch 1/10 Iteration: 2900 Avg. Training loss: 4.7852 0.1881 sec/batch\n",
      "Epoch 1/10 Iteration: 3000 Avg. Training loss: 4.7944 0.1876 sec/batch\n",
      "Nearest to many: did, worked, marrying, nicomedia, download, occurrences, redshift, cordwainer,\n",
      "Nearest to or: equations, able, fishes, gamefaqs, comprised, device, lavinia, precise,\n",
      "Nearest to are: tarzan, injected, elephants, min, tried, hobbyist, maison, inclination,\n",
      "Nearest to can: generate, stratum, bit, broadcaster, ramifications, tiberian, physics, euro,\n",
      "Nearest to this: than, waterford, derivations, employees, khadijah, genres, manpower, enables,\n",
      "Nearest to six: pashtun, upheld, mistakenly, conclave, births, anyway, fy, five,\n",
      "Nearest to will: way, bloody, guarantees, constructivism, aramean, tilted, proofs, capt,\n",
      "Nearest to that: allows, offs, kestrel, sum, best, rooted, elsinore, related,\n",
      "Nearest to know: turning, disney, tptp, inspection, employs, rejecting, ways, arlington,\n",
      "Nearest to applications: levies, ravage, heavily, api, stupendous, mendelian, folds, adding,\n",
      "Nearest to versions: requirements, merged, fight, marcia, ruined, they, kilogram, fay,\n",
      "Nearest to mean: tourist, buscema, hei, j, positive, thesis, most, ornithologists,\n",
      "Nearest to troops: amending, undoing, professionals, recreate, watson, inch, led, stretchy,\n",
      "Nearest to woman: organizations, expectancy, port, complexes, underway, swam, enemy, acs,\n",
      "Nearest to experience: salvadoran, fusing, meteorological, sykes, missionaries, chuck, pantheism, observe,\n",
      "Nearest to notes: triumphant, sealey, infrastructure, spared, gion, seijuro, fretilin, discursive,\n",
      "Epoch 1/10 Iteration: 3100 Avg. Training loss: 4.7712 0.1915 sec/batch\n",
      "Epoch 1/10 Iteration: 3200 Avg. Training loss: 4.7514 0.1898 sec/batch\n",
      "Epoch 1/10 Iteration: 3300 Avg. Training loss: 4.7241 0.1888 sec/batch\n",
      "Epoch 1/10 Iteration: 3400 Avg. Training loss: 4.7229 0.1882 sec/batch\n",
      "Epoch 1/10 Iteration: 3500 Avg. Training loss: 4.7546 0.1909 sec/batch\n",
      "Epoch 1/10 Iteration: 3600 Avg. Training loss: 4.6797 0.1898 sec/batch\n",
      "Epoch 1/10 Iteration: 3700 Avg. Training loss: 4.7084 0.1869 sec/batch\n",
      "Epoch 1/10 Iteration: 3800 Avg. Training loss: 4.7130 0.1877 sec/batch\n",
      "Epoch 1/10 Iteration: 3900 Avg. Training loss: 4.6934 0.1872 sec/batch\n",
      "Epoch 1/10 Iteration: 4000 Avg. Training loss: 4.6523 0.1882 sec/batch\n",
      "Nearest to many: worked, download, did, marrying, redshift, occurrences, cordwainer, nicomedia,\n",
      "Nearest to or: fishes, gamefaqs, precise, equations, device, able, retellings, unusable,\n",
      "Nearest to are: injected, tarzan, elephants, here, min, often, invariant, hobbyist,\n",
      "Nearest to can: generate, stratum, bit, ramifications, tiberian, grasses, lifes, physics,\n",
      "Nearest to this: than, waterford, derivations, true, khadijah, recklessness, trachea, montes,\n",
      "Nearest to six: five, births, seven, eight, pashtun, fy, cambria, nine,\n",
      "Nearest to will: way, bloody, guarantees, constructivism, proofs, tilted, aramean, capt,\n",
      "Nearest to that: allows, arbiter, rooted, should, related, offs, sum, kestrel,\n",
      "Nearest to know: turning, tptp, inspection, individualists, disney, rejecting, alternated, ways,\n",
      "Nearest to applications: levies, api, ravage, stupendous, heavily, processes, chee, folds,\n",
      "Nearest to versions: requirements, marcia, merged, pki, depend, fight, dvorak, modding,\n",
      "Nearest to mean: tourist, positive, hei, buscema, pillow, j, ornithologists, capra,\n",
      "Nearest to troops: amending, recreate, undoing, led, watson, professionals, inch, stretchy,\n",
      "Nearest to woman: expectancy, port, underway, complexes, swam, organizations, anderson, acs,\n",
      "Nearest to experience: salvadoran, fusing, meteorological, enumeration, sykes, observe, missionaries, chuck,\n",
      "Nearest to notes: triumphant, sealey, seijuro, discursive, infrastructure, fretilin, hispania, gion,\n",
      "Epoch 1/10 Iteration: 4100 Avg. Training loss: 4.6789 0.1902 sec/batch\n",
      "Epoch 1/10 Iteration: 4200 Avg. Training loss: 4.6427 0.1883 sec/batch\n",
      "Epoch 1/10 Iteration: 4300 Avg. Training loss: 4.6130 0.1882 sec/batch\n",
      "Epoch 1/10 Iteration: 4400 Avg. Training loss: 4.6132 0.1887 sec/batch\n",
      "Epoch 1/10 Iteration: 4500 Avg. Training loss: 4.6255 0.1883 sec/batch\n",
      "Epoch 1/10 Iteration: 4600 Avg. Training loss: 4.6408 0.1871 sec/batch\n",
      "Epoch 2/10 Iteration: 4700 Avg. Training loss: 4.5863 0.1378 sec/batch\n",
      "Epoch 2/10 Iteration: 4800 Avg. Training loss: 4.5425 0.1882 sec/batch\n",
      "Epoch 2/10 Iteration: 4900 Avg. Training loss: 4.5168 0.1882 sec/batch\n",
      "Epoch 2/10 Iteration: 5000 Avg. Training loss: 4.5204 0.1892 sec/batch\n",
      "Nearest to many: worked, did, cordwainer, redshift, download, torturing, occurrences, rightist,\n",
      "Nearest to or: fishes, gamefaqs, precise, comprised, equations, advocated, device, magnificently,\n",
      "Nearest to are: injected, elephants, tarzan, often, quantities, blanks, here, augustinian,\n",
      "Nearest to can: generate, bit, ramifications, stratum, physics, grasses, takahata, lifes,\n",
      "Nearest to this: than, waterford, understanding, khadijah, demeaning, recklessness, derivations, montes,\n",
      "Nearest to six: five, births, seven, eight, one, pashtun, nine, fy,\n",
      "Nearest to will: way, constructivism, proofs, guarantees, tilted, consultancy, aramean, bloody,\n",
      "Nearest to that: allows, should, arbiter, rooted, knowledge, offs, negation, wedge,\n",
      "Nearest to know: turning, tptp, inspection, individualists, vanishes, certificates, ways, tudors,\n",
      "Nearest to applications: levies, api, chee, adding, processes, ravage, stupendous, mendelian,\n",
      "Nearest to versions: requirements, depend, modding, variation, physical, dvorak, ingest, pki,\n",
      "Nearest to mean: positive, pillow, not, paedophilia, j, capra, buscema, hei,\n",
      "Nearest to troops: amending, recreate, undoing, led, ally, expelled, watson, inch,\n",
      "Nearest to woman: expectancy, port, swam, anderson, complexes, underway, organizations, vodka,\n",
      "Nearest to experience: salvadoran, fusing, meteorological, enumeration, sykes, observe, their, seclusion,\n",
      "Nearest to notes: triumphant, seijuro, discursive, metrication, rida, fretilin, wharton, sealey,\n",
      "Epoch 2/10 Iteration: 5100 Avg. Training loss: 4.5022 0.1908 sec/batch\n",
      "Epoch 2/10 Iteration: 5200 Avg. Training loss: 4.4926 0.1884 sec/batch\n",
      "Epoch 2/10 Iteration: 5300 Avg. Training loss: 4.4866 0.1876 sec/batch\n",
      "Epoch 2/10 Iteration: 5400 Avg. Training loss: 4.5363 0.1866 sec/batch\n",
      "Epoch 2/10 Iteration: 5500 Avg. Training loss: 4.5131 0.1870 sec/batch\n",
      "Epoch 2/10 Iteration: 5600 Avg. Training loss: 4.4988 0.1863 sec/batch\n",
      "Epoch 2/10 Iteration: 5700 Avg. Training loss: 4.4277 0.1883 sec/batch\n",
      "Epoch 2/10 Iteration: 5800 Avg. Training loss: 4.3893 0.1896 sec/batch\n",
      "Epoch 2/10 Iteration: 5900 Avg. Training loss: 4.4393 0.1876 sec/batch\n",
      "Epoch 2/10 Iteration: 6000 Avg. Training loss: 4.4329 0.1866 sec/batch\n",
      "Nearest to many: did, redshift, worked, torturing, pedantic, cordwainer, rightist, heero,\n",
      "Nearest to or: precise, fishes, multiple, device, can, gamefaqs, comprised, values,\n",
      "Nearest to are: injected, elephants, quantities, often, intensity, tarzan, materials, different,\n",
      "Nearest to can: generate, bit, physics, genetically, stratum, grasses, lifes, takahata,\n",
      "Nearest to this: than, understanding, demeaning, waterford, recklessness, khadijah, benzodiazepine, montes,\n",
      "Nearest to six: five, births, eight, fy, seven, traditionalism, switcher, pashtun,\n",
      "Nearest to will: way, proofs, tilted, constructivism, guarantees, flue, aramean, consultancy,\n",
      "Nearest to that: allows, should, arbiter, knowledge, rooted, those, negation, predict,\n",
      "Nearest to know: tptp, turning, individualists, inspection, certificates, ways, moral, formless,\n",
      "Nearest to applications: api, levies, processes, lengths, input, chee, adding, multiplication,\n",
      "Nearest to versions: requirements, dvorak, pki, variation, modding, depend, ingest, kilogram,\n",
      "Nearest to mean: positive, pillow, not, j, paedophilia, therefore, differs, buscema,\n",
      "Nearest to troops: amending, ally, led, recreate, expelled, undoing, inch, stretchy,\n",
      "Nearest to woman: expectancy, swam, anderson, complexes, port, underway, vodka, precession,\n",
      "Nearest to experience: salvadoran, fusing, enumeration, observe, meteorological, seclusion, their, scoping,\n",
      "Nearest to notes: triumphant, seijuro, discursive, metrication, rida, fretilin, wharton, transgressive,\n",
      "Epoch 2/10 Iteration: 6100 Avg. Training loss: 4.4515 0.1901 sec/batch\n",
      "Epoch 2/10 Iteration: 6200 Avg. Training loss: 4.4050 0.1882 sec/batch\n",
      "Epoch 2/10 Iteration: 6300 Avg. Training loss: 4.4348 0.1873 sec/batch\n",
      "Epoch 2/10 Iteration: 6400 Avg. Training loss: 4.3850 0.1870 sec/batch\n",
      "Epoch 2/10 Iteration: 6500 Avg. Training loss: 4.4164 0.1860 sec/batch\n",
      "Epoch 2/10 Iteration: 6600 Avg. Training loss: 4.4214 0.1864 sec/batch\n",
      "Epoch 2/10 Iteration: 6700 Avg. Training loss: 4.3876 0.1868 sec/batch\n",
      "Epoch 2/10 Iteration: 6800 Avg. Training loss: 4.3898 0.1883 sec/batch\n",
      "Epoch 2/10 Iteration: 6900 Avg. Training loss: 4.4089 0.1867 sec/batch\n",
      "Epoch 2/10 Iteration: 7000 Avg. Training loss: 4.3768 0.1878 sec/batch\n",
      "Nearest to many: ideally, did, worked, pedantic, redshift, torturing, bubbling, heero,\n",
      "Nearest to or: fishes, multiple, unusable, uncommonly, precise, retellings, gamefaqs, advocated,\n",
      "Nearest to are: injected, elephants, quantities, tarzan, often, macrolide, hutchins, intensity,\n",
      "Nearest to can: generate, genetically, lifes, enveloped, bit, physics, detection, takahata,\n",
      "Nearest to this: demeaning, derivations, recklessness, benzodiazepine, understanding, waterford, than, khadijah,\n",
      "Nearest to six: five, eight, births, seven, one, fy, traditionalism, four,\n",
      "Nearest to will: way, tilted, constructivism, proofs, guarantees, flue, bloody, consultancy,\n",
      "Nearest to that: allows, should, knowledge, those, sum, arbiter, predict, thus,\n",
      "Nearest to know: tptp, turning, individualists, formless, deallocation, certificates, ways, vereinsthaler,\n",
      "Nearest to applications: api, levies, processes, input, chee, adding, lengths, multiplication,\n",
      "Nearest to versions: requirements, dvorak, modding, pki, fetch, electronics, specifications, ported,\n",
      "Nearest to mean: pillow, therefore, paedophilia, not, ornithologists, positive, j, thesis,\n",
      "Nearest to troops: amending, ally, led, expelled, recreate, undoing, stretchy, pakistanis,\n",
      "Nearest to woman: expectancy, swam, anderson, complexes, port, vodka, underway, precession,\n",
      "Nearest to experience: salvadoran, fusing, enumeration, observe, their, seclusion, empirical, dv,\n",
      "Nearest to notes: triumphant, seijuro, discursive, metrication, wharton, fretilin, baffling, waltrip,\n",
      "Epoch 2/10 Iteration: 7100 Avg. Training loss: 4.3753 0.1892 sec/batch\n",
      "Epoch 2/10 Iteration: 7200 Avg. Training loss: 4.4010 0.1873 sec/batch\n",
      "Epoch 2/10 Iteration: 7300 Avg. Training loss: 4.3846 0.1869 sec/batch\n",
      "Epoch 2/10 Iteration: 7400 Avg. Training loss: 4.3467 0.1848 sec/batch\n",
      "Epoch 2/10 Iteration: 7500 Avg. Training loss: 4.3877 0.1845 sec/batch\n",
      "Epoch 2/10 Iteration: 7600 Avg. Training loss: 4.3415 0.1856 sec/batch\n",
      "Epoch 2/10 Iteration: 7700 Avg. Training loss: 4.3580 0.1876 sec/batch\n",
      "Epoch 2/10 Iteration: 7800 Avg. Training loss: 4.3884 0.1859 sec/batch\n",
      "Epoch 2/10 Iteration: 7900 Avg. Training loss: 4.3221 0.1870 sec/batch\n",
      "Epoch 2/10 Iteration: 8000 Avg. Training loss: 4.3263 0.1867 sec/batch\n",
      "Nearest to many: ideally, worked, did, heero, pedantic, redshift, torturing, impregnated,\n",
      "Nearest to or: fishes, uncommonly, copyleft, precise, advocated, unusable, noradrenaline, retellings,\n",
      "Nearest to are: elephants, injected, tarzan, often, quantities, exhaled, hutchins, isotopic,\n",
      "Nearest to can: generate, genetically, enveloped, lifes, bit, takahata, feeders, stratum,\n",
      "Nearest to this: derivations, recklessness, waterford, demeaning, khadijah, understanding, flemming, true,\n",
      "Nearest to six: five, eight, seven, four, births, one, three, traditionalism,\n",
      "Nearest to will: way, tilted, constructivism, proofs, guarantees, consultancy, ide, verisimilitude,\n",
      "Nearest to that: allows, should, axioms, sum, elsinore, rooted, knowledge, arbiter,\n",
      "Nearest to know: tptp, turning, formless, individualists, deallocation, vereinsthaler, peckinpah, moral,\n",
      "Nearest to applications: api, levies, input, adding, chee, processes, mainframe, debugger,\n",
      "Nearest to versions: requirements, specifications, ported, modding, dvorak, php, rhenium, pki,\n",
      "Nearest to mean: pillow, paedophilia, therefore, ideal, sexism, hei, limburgish, forearm,\n",
      "Nearest to troops: ally, amending, led, expelled, besieged, undoing, recreate, fought,\n",
      "Nearest to woman: expectancy, swam, anderson, vodka, fenrir, childbirth, epiphanius, female,\n",
      "Nearest to experience: salvadoran, fusing, observe, enumeration, pantheism, duhem, caesium, empirical,\n",
      "Nearest to notes: triumphant, discursive, seijuro, metrication, wharton, baffling, fretilin, transgressive,\n",
      "Epoch 2/10 Iteration: 8100 Avg. Training loss: 4.3507 0.1909 sec/batch\n",
      "Epoch 2/10 Iteration: 8200 Avg. Training loss: 4.3021 0.1877 sec/batch\n",
      "Epoch 2/10 Iteration: 8300 Avg. Training loss: 4.3809 0.1864 sec/batch\n",
      "Epoch 2/10 Iteration: 8400 Avg. Training loss: 4.3843 0.1852 sec/batch\n",
      "Epoch 2/10 Iteration: 8500 Avg. Training loss: 4.3869 0.1837 sec/batch\n",
      "Epoch 2/10 Iteration: 8600 Avg. Training loss: 4.2826 0.1854 sec/batch\n",
      "Epoch 2/10 Iteration: 8700 Avg. Training loss: 4.3273 0.1839 sec/batch\n",
      "Epoch 2/10 Iteration: 8800 Avg. Training loss: 4.3236 0.1850 sec/batch\n",
      "Epoch 2/10 Iteration: 8900 Avg. Training loss: 4.2221 0.1865 sec/batch\n",
      "Epoch 2/10 Iteration: 9000 Avg. Training loss: 4.2835 0.1874 sec/batch\n",
      "Nearest to many: worked, did, pedantic, ideally, heero, redshift, huff, torturing,\n",
      "Nearest to or: fishes, copyleft, unusable, noradrenaline, advocated, uncommonly, circumcisions, chemotherapy,\n",
      "Nearest to are: elephants, injected, quantities, often, exhaled, isotopic, tarzan, these,\n",
      "Nearest to can: generate, enveloped, genetically, ramifications, feeders, sexagesimal, takahata, lifes,\n",
      "Nearest to this: derivations, recklessness, waterford, true, khadijah, demeaning, flemming, vso,\n",
      "Nearest to six: five, seven, eight, one, four, three, births, fy,\n",
      "Nearest to will: way, tilted, constructivism, proofs, ide, consultancy, guarantees, verisimilitude,\n",
      "Nearest to that: allows, axioms, should, sum, rooted, elsinore, arbiter, poitou,\n",
      "Nearest to know: tptp, formless, turning, peckinpah, individualists, vereinsthaler, moral, deallocation,\n",
      "Nearest to applications: api, mainframe, levies, input, debugger, adding, compaction, chee,\n",
      "Nearest to versions: ported, requirements, specifications, php, modding, dvorak, pki, trigger,\n",
      "Nearest to mean: therefore, pillow, ideal, paedophilia, limburgish, hei, geometrical, thesis,\n",
      "Nearest to troops: ally, amending, led, expelled, undoing, fought, besieged, recreate,\n",
      "Nearest to woman: expectancy, female, swam, nationality, vodka, infant, aids, fenrir,\n",
      "Nearest to experience: salvadoran, fusing, observe, enumeration, duhem, pantheism, dv, empirical,\n",
      "Nearest to notes: triumphant, seijuro, metrication, discursive, lectures, wharton, baffling, fretilin,\n",
      "Epoch 2/10 Iteration: 9100 Avg. Training loss: 4.3043 0.1888 sec/batch\n",
      "Epoch 2/10 Iteration: 9200 Avg. Training loss: 4.2947 0.1853 sec/batch\n",
      "Epoch 3/10 Iteration: 9300 Avg. Training loss: 4.3492 0.0853 sec/batch\n",
      "Epoch 3/10 Iteration: 9400 Avg. Training loss: 4.2544 0.1853 sec/batch\n",
      "Epoch 3/10 Iteration: 9500 Avg. Training loss: 4.2278 0.1861 sec/batch\n",
      "Epoch 3/10 Iteration: 9600 Avg. Training loss: 4.2212 0.1854 sec/batch\n",
      "Epoch 3/10 Iteration: 9700 Avg. Training loss: 4.2190 0.1845 sec/batch\n",
      "Epoch 3/10 Iteration: 9800 Avg. Training loss: 4.2125 0.1840 sec/batch\n",
      "Epoch 3/10 Iteration: 9900 Avg. Training loss: 4.2160 0.1847 sec/batch\n",
      "Epoch 3/10 Iteration: 10000 Avg. Training loss: 4.1824 0.1831 sec/batch\n",
      "Nearest to many: pedantic, worked, heero, redshift, ideally, did, huff, fuss,\n",
      "Nearest to or: fishes, copyleft, noradrenaline, comprised, chemotherapy, unusable, advocated, magnificently,\n",
      "Nearest to are: elephants, injected, restaurants, quantities, isotopic, macrolide, exhaled, tarzan,\n",
      "Nearest to can: generate, enveloped, feeders, genetically, meningitis, sexagesimal, takahata, ramifications,\n",
      "Nearest to this: derivations, waterford, recklessness, demeaning, khadijah, energies, flemming, vso,\n",
      "Nearest to six: five, eight, seven, four, one, three, two, switcher,\n",
      "Nearest to will: way, tilted, constructivism, consultancy, hier, tib, interviewed, moments,\n",
      "Nearest to that: allows, axioms, should, rooted, sum, arbiter, filibuster, poitou,\n",
      "Nearest to know: tptp, formless, turning, individualists, deallocation, moral, inspection, vereinsthaler,\n",
      "Nearest to applications: api, mainframe, debugger, compaction, levies, input, chee, processes,\n",
      "Nearest to versions: specifications, ported, php, requirements, fetch, modding, emulators, rhenium,\n",
      "Nearest to mean: hei, limburgish, pillow, therefore, paedophilia, lindo, ideal, sexism,\n",
      "Nearest to troops: ally, amending, led, expelled, besieged, undoing, confederate, recreate,\n",
      "Nearest to woman: expectancy, vodka, swam, female, childbirth, infant, nationality, fertility,\n",
      "Nearest to experience: salvadoran, fusing, observe, enumeration, duhem, pantheism, dv, empirical,\n",
      "Nearest to notes: triumphant, seijuro, discursive, metrication, lectures, wharton, waltrip, baffling,\n",
      "Epoch 3/10 Iteration: 10100 Avg. Training loss: 4.2805 0.1866 sec/batch\n",
      "Epoch 3/10 Iteration: 10200 Avg. Training loss: 4.2098 0.1851 sec/batch\n"
     ]
    }
   ],
   "source": [
    "epochs = 10\n",
    "batch_size = 1000\n",
    "window_size = 10\n",
    "\n",
    "with train_graph.as_default():\n",
    "    saver = tf.train.Saver()\n",
    "\n",
    "with tf.Session(graph=train_graph) as sess:\n",
    "    iteration = 1\n",
    "    loss = 0\n",
    "    sess.run(tf.global_variables_initializer())\n",
    "\n",
    "    for e in range(1, epochs+1):\n",
    "        batches = get_batches(train_words, batch_size, window_size)\n",
    "        start = time.time()\n",
    "        for x, y in batches:\n",
    "            \n",
    "            feed = {inputs: x,\n",
    "                    labels: np.array(y)[:, None]}\n",
    "            train_loss, _ = sess.run([cost, optimizer], feed_dict=feed)\n",
    "            \n",
    "            loss += train_loss\n",
    "            \n",
    "            if iteration % 100 == 0: \n",
    "                end = time.time()\n",
    "                print(\"Epoch {}/{}\".format(e, epochs),\n",
    "                      \"Iteration: {}\".format(iteration),\n",
    "                      \"Avg. Training loss: {:.4f}\".format(loss/100),\n",
    "                      \"{:.4f} sec/batch\".format((end-start)/100))\n",
    "                loss = 0\n",
    "                start = time.time()\n",
    "            \n",
    "            if iteration % 1000 == 0:\n",
    "                ## From Thushan Ganegedara's implementation\n",
    "                # note that this is expensive (~20% slowdown if computed every 500 steps)\n",
    "                sim = similarity.eval()\n",
    "                for i in range(valid_size):\n",
    "                    valid_word = int_to_vocab[valid_examples[i]]\n",
    "                    top_k = 8 # number of nearest neighbors\n",
    "                    nearest = (-sim[i, :]).argsort()[1:top_k+1]\n",
    "                    log = 'Nearest to %s:' % valid_word\n",
    "                    for k in range(top_k):\n",
    "                        close_word = int_to_vocab[nearest[k]]\n",
    "                        log = '%s %s,' % (log, close_word)\n",
    "                    print(log)\n",
    "            \n",
    "            iteration += 1\n",
    "    save_path = saver.save(sess, \"checkpoints/text8.ckpt\")\n",
    "    embed_mat = sess.run(normalized_embedding)"
   ]
  },
  {
   "cell_type": "markdown",
   "metadata": {
    "deletable": true,
    "editable": true
   },
   "source": [
    "Restore the trained network if you need to:"
   ]
  },
  {
   "cell_type": "code",
   "execution_count": null,
   "metadata": {
    "collapsed": false,
    "deletable": true,
    "editable": true
   },
   "outputs": [],
   "source": [
    "with train_graph.as_default():\n",
    "    saver = tf.train.Saver()\n",
    "\n",
    "with tf.Session(graph=train_graph) as sess:\n",
    "    saver.restore(sess, tf.train.latest_checkpoint('checkpoints'))\n",
    "    embed_mat = sess.run(embedding)"
   ]
  },
  {
   "cell_type": "markdown",
   "metadata": {
    "deletable": true,
    "editable": true
   },
   "source": [
    "## Visualizing the word vectors\n",
    "\n",
    "Below we'll use T-SNE to visualize how our high-dimensional word vectors cluster together. T-SNE is used to project these vectors into two dimensions while preserving local stucture. Check out [this post from Christopher Olah](http://colah.github.io/posts/2014-10-Visualizing-MNIST/) to learn more about T-SNE and other ways to visualize high-dimensional data."
   ]
  },
  {
   "cell_type": "code",
   "execution_count": 58,
   "metadata": {
    "collapsed": false,
    "deletable": true,
    "editable": true
   },
   "outputs": [],
   "source": [
    "%matplotlib inline\n",
    "%config InlineBackend.figure_format = 'retina'\n",
    "\n",
    "import matplotlib.pyplot as plt\n",
    "from sklearn.manifold import TSNE"
   ]
  },
  {
   "cell_type": "code",
   "execution_count": 59,
   "metadata": {
    "collapsed": false,
    "deletable": true,
    "editable": true
   },
   "outputs": [
    {
     "ename": "NameError",
     "evalue": "name 'embed_mat' is not defined",
     "output_type": "error",
     "traceback": [
      "\u001b[0;31m-------------------------------------------------------------------------\u001b[0m",
      "\u001b[0;31mNameError\u001b[0m                               Traceback (most recent call last)",
      "\u001b[0;32m<ipython-input-59-a4718e25bc97>\u001b[0m in \u001b[0;36m<module>\u001b[0;34m()\u001b[0m\n\u001b[1;32m      1\u001b[0m \u001b[0mviz_words\u001b[0m \u001b[0;34m=\u001b[0m \u001b[0;36m500\u001b[0m\u001b[0;34m\u001b[0m\u001b[0m\n\u001b[1;32m      2\u001b[0m \u001b[0mtsne\u001b[0m \u001b[0;34m=\u001b[0m \u001b[0mTSNE\u001b[0m\u001b[0;34m(\u001b[0m\u001b[0;34m)\u001b[0m\u001b[0;34m\u001b[0m\u001b[0m\n\u001b[0;32m----> 3\u001b[0;31m \u001b[0membed_tsne\u001b[0m \u001b[0;34m=\u001b[0m \u001b[0mtsne\u001b[0m\u001b[0;34m.\u001b[0m\u001b[0mfit_transform\u001b[0m\u001b[0;34m(\u001b[0m\u001b[0membed_mat\u001b[0m\u001b[0;34m[\u001b[0m\u001b[0;34m:\u001b[0m\u001b[0mviz_words\u001b[0m\u001b[0;34m,\u001b[0m \u001b[0;34m:\u001b[0m\u001b[0;34m]\u001b[0m\u001b[0;34m)\u001b[0m\u001b[0;34m\u001b[0m\u001b[0m\n\u001b[0m",
      "\u001b[0;31mNameError\u001b[0m: name 'embed_mat' is not defined"
     ]
    }
   ],
   "source": [
    "viz_words = 500\n",
    "tsne = TSNE()\n",
    "embed_tsne = tsne.fit_transform(embed_mat[:viz_words, :])"
   ]
  },
  {
   "cell_type": "code",
   "execution_count": null,
   "metadata": {
    "collapsed": false,
    "deletable": true,
    "editable": true
   },
   "outputs": [],
   "source": [
    "fig, ax = plt.subplots(figsize=(14, 14))\n",
    "for idx in range(viz_words):\n",
    "    plt.scatter(*embed_tsne[idx, :], color='steelblue')\n",
    "    plt.annotate(int_to_vocab[idx], (embed_tsne[idx, 0], embed_tsne[idx, 1]), alpha=0.7)"
   ]
  }
 ],
 "metadata": {
  "kernelspec": {
   "display_name": "Python [default]",
   "language": "python",
   "name": "python3"
  },
  "language_info": {
   "codemirror_mode": {
    "name": "ipython",
    "version": 3
   },
   "file_extension": ".py",
   "mimetype": "text/x-python",
   "name": "python",
   "nbconvert_exporter": "python",
   "pygments_lexer": "ipython3",
   "version": "3.5.2"
  },
  "widgets": {
   "state": {},
   "version": "1.1.2"
  }
 },
 "nbformat": 4,
 "nbformat_minor": 2
}
